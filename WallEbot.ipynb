{
  "nbformat": 4,
  "nbformat_minor": 0,
  "metadata": {
    "colab": {
      "provenance": []
    },
    "kernelspec": {
      "name": "python3",
      "display_name": "Python 3"
    },
    "language_info": {
      "name": "python"
    },
    "accelerator": "GPU",
    "gpuClass": "standard"
  },
  "cells": [
    {
      "cell_type": "markdown",
      "source": [
        "# **Wall-E Bot**\n",
        "\n",
        "### *19/02/2023*\n",
        "\n",
        "This is my first personal project since my master's thesis. I have decided to create a personal chat bot based on my whatsapp chat history. Though I thought creating such bot would be super difficult, after some research and learning I learned that it is very easy to create a basic bot which can provide funny responses. Python has a wonderful library called [chatterbot](https://chatterbot.readthedocs.io/en/stable/) which offers a complete package to create such bot. Since this library is not language based the chat language doesn't matter. As I am bilingual, most of my chats involve both English and [Tamil](https://en.wikipedia.org/wiki/Tamil_language) words."
      ],
      "metadata": {
        "id": "jQS1fZvvzamD"
      }
    },
    {
      "cell_type": "code",
      "source": [
        "pip install chatterbot==1.0.4 pytz"
      ],
      "metadata": {
        "colab": {
          "base_uri": "https://localhost:8080/"
        },
        "id": "98maccDtK8pf",
        "outputId": "1fd2a262-1253-46c0-e28a-b07aa5f54547"
      },
      "execution_count": 1,
      "outputs": [
        {
          "output_type": "stream",
          "name": "stdout",
          "text": [
            "Looking in indexes: https://pypi.org/simple, https://us-python.pkg.dev/colab-wheels/public/simple/\n",
            "Collecting chatterbot==1.0.4\n",
            "  Downloading ChatterBot-1.0.4-py2.py3-none-any.whl (66 kB)\n",
            "\u001b[2K     \u001b[90m━━━━━━━━━━━━━━━━━━━━━━━━━━━━━━━━━━━━━━━━\u001b[0m \u001b[32m66.3/66.3 KB\u001b[0m \u001b[31m8.4 MB/s\u001b[0m eta \u001b[36m0:00:00\u001b[0m\n",
            "\u001b[?25hRequirement already satisfied: pytz in /usr/local/lib/python3.8/dist-packages (2022.7.1)\n",
            "Requirement already satisfied: nltk<4.0,>=3.2 in /usr/local/lib/python3.8/dist-packages (from chatterbot==1.0.4) (3.7)\n",
            "Collecting pymongo<4.0,>=3.3\n",
            "  Downloading pymongo-3.13.0-cp38-cp38-manylinux_2_17_x86_64.manylinux2014_x86_64.whl (526 kB)\n",
            "\u001b[2K     \u001b[90m━━━━━━━━━━━━━━━━━━━━━━━━━━━━━━━━━━━━━━\u001b[0m \u001b[32m526.2/526.2 KB\u001b[0m \u001b[31m32.5 MB/s\u001b[0m eta \u001b[36m0:00:00\u001b[0m\n",
            "\u001b[?25hCollecting chatterbot-corpus<1.3,>=1.2\n",
            "  Downloading chatterbot_corpus-1.2.0-py2.py3-none-any.whl (117 kB)\n",
            "\u001b[2K     \u001b[90m━━━━━━━━━━━━━━━━━━━━━━━━━━━━━━━━━━━━━━\u001b[0m \u001b[32m117.3/117.3 KB\u001b[0m \u001b[31m18.4 MB/s\u001b[0m eta \u001b[36m0:00:00\u001b[0m\n",
            "\u001b[?25hCollecting python-dateutil<2.8,>=2.7\n",
            "  Downloading python_dateutil-2.7.5-py2.py3-none-any.whl (225 kB)\n",
            "\u001b[2K     \u001b[90m━━━━━━━━━━━━━━━━━━━━━━━━━━━━━━━━━━━━━━\u001b[0m \u001b[32m225.7/225.7 KB\u001b[0m \u001b[31m30.2 MB/s\u001b[0m eta \u001b[36m0:00:00\u001b[0m\n",
            "\u001b[?25hCollecting sqlalchemy<1.3,>=1.2\n",
            "  Downloading SQLAlchemy-1.2.19.tar.gz (5.7 MB)\n",
            "\u001b[2K     \u001b[90m━━━━━━━━━━━━━━━━━━━━━━━━━━━━━━━━━━━━━━━━\u001b[0m \u001b[32m5.7/5.7 MB\u001b[0m \u001b[31m87.8 MB/s\u001b[0m eta \u001b[36m0:00:00\u001b[0m\n",
            "\u001b[?25h  Preparing metadata (setup.py) ... \u001b[?25l\u001b[?25hdone\n",
            "Collecting pint>=0.8.1\n",
            "  Downloading Pint-0.20.1-py3-none-any.whl (269 kB)\n",
            "\u001b[2K     \u001b[90m━━━━━━━━━━━━━━━━━━━━━━━━━━━━━━━━━━━━━━\u001b[0m \u001b[32m269.5/269.5 KB\u001b[0m \u001b[31m31.3 MB/s\u001b[0m eta \u001b[36m0:00:00\u001b[0m\n",
            "\u001b[?25hCollecting mathparse<0.2,>=0.1\n",
            "  Downloading mathparse-0.1.2-py3-none-any.whl (7.2 kB)\n",
            "Collecting PyYAML<4.0,>=3.12\n",
            "  Downloading PyYAML-3.13.tar.gz (270 kB)\n",
            "\u001b[2K     \u001b[90m━━━━━━━━━━━━━━━━━━━━━━━━━━━━━━━━━━━━━━\u001b[0m \u001b[32m270.6/270.6 KB\u001b[0m \u001b[31m35.3 MB/s\u001b[0m eta \u001b[36m0:00:00\u001b[0m\n",
            "\u001b[?25h  Preparing metadata (setup.py) ... \u001b[?25l\u001b[?25hdone\n",
            "Requirement already satisfied: joblib in /usr/local/lib/python3.8/dist-packages (from nltk<4.0,>=3.2->chatterbot==1.0.4) (1.2.0)\n",
            "Requirement already satisfied: click in /usr/local/lib/python3.8/dist-packages (from nltk<4.0,>=3.2->chatterbot==1.0.4) (7.1.2)\n",
            "Requirement already satisfied: tqdm in /usr/local/lib/python3.8/dist-packages (from nltk<4.0,>=3.2->chatterbot==1.0.4) (4.64.1)\n",
            "Requirement already satisfied: regex>=2021.8.3 in /usr/local/lib/python3.8/dist-packages (from nltk<4.0,>=3.2->chatterbot==1.0.4) (2022.6.2)\n",
            "Requirement already satisfied: six>=1.5 in /usr/local/lib/python3.8/dist-packages (from python-dateutil<2.8,>=2.7->chatterbot==1.0.4) (1.15.0)\n",
            "Building wheels for collected packages: sqlalchemy, PyYAML\n",
            "  Building wheel for sqlalchemy (setup.py) ... \u001b[?25l\u001b[?25hdone\n",
            "  Created wheel for sqlalchemy: filename=SQLAlchemy-1.2.19-cp38-cp38-linux_x86_64.whl size=1160260 sha256=321a51048abdedf6b70a1f75732349b926b8b2bd233106da77b39230e9696f21\n",
            "  Stored in directory: /root/.cache/pip/wheels/0d/13/f8/47c2f3157957c3693caffa64a94a718cb1357fe186e4d52e48\n",
            "  Building wheel for PyYAML (setup.py) ... \u001b[?25l\u001b[?25hdone\n",
            "  Created wheel for PyYAML: filename=PyYAML-3.13-cp38-cp38-linux_x86_64.whl size=43098 sha256=4208d39810d5c0063d27b72f14ee21f14e8fb52036f3adf4abe728849abd1bce\n",
            "  Stored in directory: /root/.cache/pip/wheels/db/f2/07/5e58b12bc11255c3fc0a0aca89849050a8ec203d8b4a3c52c0\n",
            "Successfully built sqlalchemy PyYAML\n",
            "Installing collected packages: sqlalchemy, PyYAML, mathparse, python-dateutil, pymongo, pint, chatterbot-corpus, chatterbot\n",
            "  Attempting uninstall: sqlalchemy\n",
            "    Found existing installation: SQLAlchemy 1.4.46\n",
            "    Uninstalling SQLAlchemy-1.4.46:\n",
            "      Successfully uninstalled SQLAlchemy-1.4.46\n",
            "  Attempting uninstall: PyYAML\n",
            "    Found existing installation: PyYAML 6.0\n",
            "    Uninstalling PyYAML-6.0:\n",
            "      Successfully uninstalled PyYAML-6.0\n",
            "  Attempting uninstall: python-dateutil\n",
            "    Found existing installation: python-dateutil 2.8.2\n",
            "    Uninstalling python-dateutil-2.8.2:\n",
            "      Successfully uninstalled python-dateutil-2.8.2\n",
            "  Attempting uninstall: pymongo\n",
            "    Found existing installation: pymongo 4.3.3\n",
            "    Uninstalling pymongo-4.3.3:\n",
            "      Successfully uninstalled pymongo-4.3.3\n",
            "\u001b[31mERROR: pip's dependency resolver does not currently take into account all the packages that are installed. This behaviour is the source of the following dependency conflicts.\n",
            "prophet 1.1.2 requires python-dateutil>=2.8.0, but you have python-dateutil 2.7.5 which is incompatible.\n",
            "dask 2022.2.1 requires pyyaml>=5.3.1, but you have pyyaml 3.13 which is incompatible.\u001b[0m\u001b[31m\n",
            "\u001b[0mSuccessfully installed PyYAML-3.13 chatterbot-1.0.4 chatterbot-corpus-1.2.0 mathparse-0.1.2 pint-0.20.1 pymongo-3.13.0 python-dateutil-2.7.5 sqlalchemy-1.2.19\n"
          ]
        }
      ]
    },
    {
      "cell_type": "markdown",
      "source": [
        "Follow the [instructions](https://faq.whatsapp.com/1180414079177245/?cms_platform=android) from Whatsapp's official FAQ to export the chat history. Export it without media attachments. \n",
        "\n",
        "This text file has some metadata which isn't required for our chatbot. \n",
        "\n",
        "Whatsapp chat raw data needs some cleaning to be done. Below code extracts the data from the text file and removes the metadata, later removing it concats the chat when two or more consecutive chat lines belong to the same individual. \n",
        "\n",
        "Example:\n",
        "\n",
        "This chat:\n",
        "\n",
        "22/08/2022, 17:37 - Me: Hai\n",
        "\n",
        "22/08/2022, 17:41 - Me: 😀😀😀\n",
        "\n",
        "22/08/2022, 17:45 - Me: What are you doing?\n",
        "\n",
        "22/08/2022, 17:45 - You: Working\n",
        "\n",
        "22/08/2022, 17:46 - You: 🥺🥺🥺🥺🥺🥺\n",
        "\n",
        "22/08/2022, 19:28 - Me: Ok\n",
        "\n",
        "Transfers to a tuple:\n",
        "\n",
        "('Hai 😀😀😀 What are you doing?','Working 🥺🥺🥺🥺🥺🥺','Ok')\n",
        "\n",
        "Store the chat history file as \"chat.txt\" in the storage.\n"
      ],
      "metadata": {
        "id": "DZ0AdYCl2ms-"
      }
    },
    {
      "cell_type": "code",
      "source": [
        "import pandas as pd\n",
        "df = pd.read_csv('chat.txt', sep='漢ழ்字', engine='python',header=None)\n",
        "df['Date'] = df[0].str[0:20]\n",
        "df['Text'] = df[0].str[20:]\n",
        "df = df.drop(columns = [0,'Date'])\n",
        "df['Sender'] = df['Text'].str[0:3]\n",
        "df['Text'] = df['Text'].str[3:]\n",
        "dp = pd.DataFrame(columns = [\"Sender\", \"Text\"])\n",
        "\n",
        "for index,row in df.iterrows():\n",
        "    if dp.empty:\n",
        "        dp = pd.concat([dp, pd.DataFrame.from_records([{'Sender':df['Sender'][index],'Text':df['Text'][index]}])])\n",
        "    elif df['Sender'][index]!=dp['Sender'].iloc[-1]:\n",
        "        dp = pd.concat([dp, pd.DataFrame.from_records([{'Sender':df['Sender'][index],'Text':df['Text'][index]}])])\n",
        "    elif df['Sender'][index]==dp['Sender'].iloc[-1]:\n",
        "        dp['Text'].iloc[-1] = dp['Text'].iloc[-1] +\" \"+df['Text'][index]\n"
      ],
      "metadata": {
        "id": "8fKIgO2Vlons"
      },
      "execution_count": 2,
      "outputs": []
    },
    {
      "cell_type": "code",
      "source": [
        "open_req_list = tuple(list(dp['Text']))"
      ],
      "metadata": {
        "id": "npz9LE88l3kQ"
      },
      "execution_count": 5,
      "outputs": []
    },
    {
      "cell_type": "markdown",
      "source": [
        "Now its time to train the model with the dataset. "
      ],
      "metadata": {
        "id": "IBfY6wvD5dTf"
      }
    },
    {
      "cell_type": "code",
      "source": [
        "from chatterbot import ChatBot\n",
        "from chatterbot.trainers import ListTrainer\n",
        "\n",
        "chatbot = ChatBot(\"WallE\")\n",
        "\n",
        "trainer = ListTrainer(chatbot)\n",
        "trainer.train(open_req_list)\n",
        "\n",
        "exit_conditions = (\":q\", \"quit\", \"exit\")\n",
        "while True:\n",
        "    query = input(\"> \")\n",
        "    if query in exit_conditions:\n",
        "        break\n",
        "    else:\n",
        "        print(f\"🪴 {chatbot.get_response(query)}\") "
      ],
      "metadata": {
        "colab": {
          "base_uri": "https://localhost:8080/"
        },
        "id": "mh1QFfoVl8NB",
        "outputId": "de27ecc7-348b-4419-9665-a8b1a393f362"
      },
      "execution_count": 7,
      "outputs": [
        {
          "output_type": "stream",
          "name": "stdout",
          "text": [
            "List Trainer: [                    ] 0%"
          ]
        },
        {
          "output_type": "stream",
          "name": "stderr",
          "text": [
            "[nltk_data] Downloading package averaged_perceptron_tagger to\n",
            "[nltk_data]     /root/nltk_data...\n",
            "[nltk_data]   Package averaged_perceptron_tagger is already up-to-\n",
            "[nltk_data]       date!\n",
            "[nltk_data] Downloading package punkt to /root/nltk_data...\n",
            "[nltk_data]   Package punkt is already up-to-date!\n",
            "[nltk_data] Downloading package stopwords to /root/nltk_data...\n",
            "[nltk_data]   Package stopwords is already up-to-date!\n"
          ]
        },
        {
          "name": "stdout",
          "output_type": "stream",
          "text": [
            "List Trainer: [####################] 100%\n",
            "> Hi what are you doing?\n",
            "🪴 Okie Happy pungal\n",
            "> thanks\n",
            "🪴 😘\n",
            "> what are you doing?\n",
            "🪴 Working\n",
            "> too much work?\n",
            "🪴 Good 🤣🤣\n",
            "> hmm\n",
            "🪴 She asked as long i has the vaccine on our after 2012 is cool\n",
            "> :q\n"
          ]
        }
      ]
    }
  ]
}